{
 "cells": [
  {
   "cell_type": "markdown",
   "id": "71d37c59",
   "metadata": {},
   "source": [
    "# Higgs Boson Discovery\n",
    "\n",
    "2023-03-14. Because of this date, I include the following sub-header."
   ]
  },
  {
   "cell_type": "markdown",
   "id": "2f1d6607",
   "metadata": {},
   "source": [
    "## rediscovery (?), re-analysis (?), one more time (?)\n",
    "\n",
    "A nice visualization to take me back to grad school - where I worked at [BNL](https://www.bnl.gov) / [RHIC](https://www.bnl.gov/rhic/) / [PHENIX](https://www.phenix.bnl.gov/) ([archived](https://web.archive.org/web/20230314100142/https://www.bnl.gov/world/) / [archived](https://web.archive.org/web/20230312202521/https://www.bnl.gov/rhic/) / [archived](https://web.archive.org/web/20230314191656/https://www.phenix.bnl.gov/)) which basically means I worked at a government particle accelerator. I wasn't at [CERN](https://home.cern/) / [LHC]() / [CMS](https://home.cern/science/experiments/cms) ([archived](https://web.archive.org/web/20230314192144/https://home.cern/) / [archived]() / [archived](https://web.archive.org/web/20230314192110/https://home.cern/science/experiments/cms)), which is one of the experiments contributing to the discovery of the Higgs boson and the provider of the data I'll be using. I did participate in _some_ collaboration with LHC groups. I was even invited to the [4<super>th</super> of July Discovery Announcement](https://en.wikipedia.org/wiki/Higgs_boson#Search_before_4_July_2012) ([archived](https://web.archive.org/web/20230314192829/https://en.wikipedia.org/wiki/Higgs_boson)), but I got my keys locked in my car while hanging out with friends halfway to Columbia University. (I think reality makes for a better story - we got in my car using tree branches, but it was long past the midnight announcement time.)\n",
    "\n",
    "The results (when I accomplish my goal) should look something like what follows. The image comes from https://arxiv.org/format/1207.7235, the discovery paper for the Higgs.\n",
    "\n",
    "<br/>\n",
    "<div>\n",
    "  <img src=\"./publication_4lepton_spectrum.png\"\n",
    "       alt=\"Publication histogram - our goal for the analysis is to be similar to this\"\n",
    "       width=\"400px\">\n",
    "</div>\n",
    "<br/>"
   ]
  },
  {
   "cell_type": "markdown",
   "id": "b82905ed",
   "metadata": {},
   "source": [
    "If you're seeing this on GitHub and want to run it, try \n",
    "\n",
    "1) (I'm going to try getting it set up with [MyBinder](https://mybinder.org/), but I haven't gotten that to work, yet.) \n",
    "\n",
    "2) Set up a virtual environment. Make a new folder (directory) for the project and go there.\n",
    "\n",
    "On a normal `Python` setup (this one with Windows)\n",
    "\n",
    ">mkdir higgs_venv\n",
    ">python -m venv .\\higgs_venv\n",
    ">.\\higgs_venv\\Scripts\\activate\n",
    "(higgs_boson)>\n",
    "\n",
    "```"
   ]
  },
  {
   "cell_type": "markdown",
   "id": "6fe98144",
   "metadata": {},
   "source": [
    "## Setup\n",
    "\n",
    "Using `conda` for environment setup. This time, because of computer availability, I did it on the Windows CMD prompt (`Anaconda Prompt (miniconda3)`, specifically). `Jupyter` makes for simpler visualizations, so here I am."
   ]
  },
  {
   "cell_type": "markdown",
   "id": "9460b2fa",
   "metadata": {},
   "source": [
    "### When are we? (good for experimental notebooks)\n",
    "\n",
    "```\n",
    ">powershell -c (Get-Date -UFormat \"%s_%Y%m%dT%H%M%S%Z00\") -replace '[.][0-9]{5}_', '_'\n",
    "1678797612_20230314T124012-0600\n",
    "\n",
    ">::  Or, in case you don't have access to PowerShell,\n",
    ">::+ you can extract that from the following mess.\n",
    ">::\n",
    ">(set LOCALE_INFO=) && (echo( > nul) && (for /f \"usebackq tokens=*\" %k in (`systeminfo ^| findstr \";\" ^| cmd /q /v:on /c \"set/p .=&echo(!.!\"`) do @if not defined LOCALE_INFO set \"LOCALE_INFO=%k\") && (echo() && (for /f \"tokens=*\" %i in ('tzutil /g') do @echo \"%date%\" \"%time%\" \"%i\" \"%LOCALE_INFO%\") && (echo() && (w32tm /tz) && (echo()\n",
    "\n",
    "\"Tue 03/14/2023\" \"12:39:37.15\" \"Mountain Standard Time\" \"System Locale:             en-us;English (United States)\"\n",
    "\n",
    "Time zone: Current:TIME_ZONE_ID_DAYLIGHT Bias: 420min (UTC=LocalTime+Bias)\n",
    "  [Standard Name:\"Mountain Standard Time\" Bias:0min Date:(M:11 D:1 DoW:0)]\n",
    "  [Daylight Name:\"Mountain Daylight Time\" Bias:-60min Date:(M:3 D:2 DoW:0)]\n",
    "\n",
    "\n",
    ">::  Gosh, that makes me miss bash\n",
    "```\n"
   ]
  },
  {
   "cell_type": "markdown",
   "id": "aa341c25",
   "metadata": {},
   "source": [
    "### Environment stuff, pip installs, and on to Jupyter \n",
    "\n",
    "```\n",
    ">conda create --name higgs_boson python=3.10\n",
    ">conda activate higgs_boson\n",
    "(higgs_boson)>\n",
    "(higgs_boson)>python -m pip install --upgrade pip\n",
    "(higgs_boson)>pip install jupyter\n",
    "(higgs_boson)>pip install numpy\n",
    "(higgs_boson)>pip install pandas\n",
    "(higgs_boson)>pip install matplotlib\n",
    "## Adding this 2023-03-16\n",
    "(higgs_boson)>pip install requests\n",
    "```\n",
    "\n",
    "Now, we can do our initial imports and image-dispay setup.\n",
    "\n"
   ]
  },
  {
   "cell_type": "markdown",
   "id": "58991147",
   "metadata": {},
   "source": [
    "### Imports and other setup"
   ]
  },
  {
   "cell_type": "markdown",
   "id": "8cdaf5e3",
   "metadata": {},
   "source": []
  },
  {
   "cell_type": "markdown",
   "id": "9758b1e8",
   "metadata": {},
   "source": [
    "For one particle, in any frame of reference (ignore that last part if it confuses you), the invariant mass is given by\n",
    "\n",
    "$m_0 = \\sqrt{E^2 - \\lvert \\textbf{p} \\rvert^2}$\n",
    "\n",
    "I'll list the column headers in a nice format to show you how we're going to check on this, i.e. check that each of the electrons has the correct (invariant) mass."
   ]
  },
  {
   "cell_type": "code",
   "execution_count": null,
   "id": "6b9a0b9b",
   "metadata": {},
   "outputs": [],
   "source": [
    "import numpy  as np\n",
    "import pandas as pd\n",
    "from matplotlib import pyplot as plt\n",
    "\n",
    "%matplotlib inline"
   ]
  },
  {
   "cell_type": "markdown",
   "id": "629634ec",
   "metadata": {},
   "source": [
    "Run this next cell. It will clear any weird (HTML) table formatting (maybe from a `pandas` `dataframe.head()` call). Things just look better. [HTML-Jupyter Ref](#HTML-Jupyter-Ref)"
   ]
  },
  {
   "cell_type": "code",
   "execution_count": null,
   "id": "3c97c79d",
   "metadata": {},
   "outputs": [],
   "source": [
    "%%HTML\n",
    "<style>\n",
    "table {\n",
    "    margin-right:auto; \n",
    "    margin-left: 0px !important;\n",
    "    display: block;\n",
    "}\n",
    "th,tr,td {\n",
    "    font-size: 150%;\n",
    "}\n",
    "</style>"
   ]
  },
  {
   "cell_type": "markdown",
   "id": "0eebd61a",
   "metadata": {},
   "source": [
    "## Some Info (Physics)\n",
    "\n",
    "***If you want to skip the physics, and I understand if you do, head to*** [the start of the analysis](#Starting-The-Analysis). **I suggest you at least look at the pictures in this first part, though.** \n",
    "\n",
    "Further down in the notebook, and here for that matter, you can skip past some physics stuff by mashing the colored button in a table that looks like this:\n",
    "\n",
    "|Wanna|Skip|Physics?|\n",
    "|-|-|-|\n",
    "|Mash|`->`|<span style=\"color: red; background-color: #00ee00;\"><a href=\"#Starting-The-Analysis\">HERE</a></span>|\n",
    "\n",
    "<br/>\n",
    "\n",
    "<div style=\"font-size:200%\">\n",
    "    <p>At least skim this one, though,</p>\n",
    "    <p>if only for the pictures.</p>\n",
    "</div>\n",
    "\n",
    "<br/>\n",
    "\n",
    "Let's talk a little about the physics of the data we'll be looking at. You may know that Uranium can decay into lighter elements, as long as the combined mass-energy of the daughters (lighter elements' atoms, energy) is the same as the combined mass-energy - usually just the original mass - of the original Uranium.\n",
    "\n",
    "The same happens for particles. The Higgs boson can decay into lighter particles and energy as long as its daughter decay particles and the energy is equal to the original mass-energy of the Higgs. One way that physics allows this to happen is for the Higgs to decay into four $\\ell$eptons. (I use the script '$\\ell$' to avoid confusion between '1' and 'l'.)\n",
    "\n",
    "Here is a way physicists represent such a decay, which has the problems noted on the image.\n",
    "\n",
    "<br/>\n",
    "<div>\n",
    "  <img src=\"./four_leptons_description_01.png\"\n",
    "       alt=\"Born (basically Feynman) diagrams for the two possible Higgs to four electrons scenario.\"\n",
    "       width=100%>\n",
    "</div>\n",
    "<br/>\n",
    "\n",
    "(In case you're curious, I'll tell you that the the $Z^{(*)}$ lines are for off-shell (virtual) Z-bosons. You can look up details if you'd like. Actually, to be technically correct, the Higgs boson should be off-shell (virtual), too, and we should see it labeled $H^{(*)}$. Just for fun, I'll put in this image from the [Wikipedia article on the Higgs boson](https://en.wikipedia.org/wiki/Higgs_boson#Discovery_of_candidate_boson_at_CERN) ([archived](https://web.archive.org/web/20230314192829/https://en.wikipedia.org/wiki/Higgs_boson)). It should show up even if changes are made to the wiki article and or the image, because I'm using an [archived image](https://web.archive.org/web/20230314233304/https://en.wikipedia.org/wiki/File:4-lepton_Higgs_decay.svg). This diagram doesn't show whether something is off-shell/virtual with the $^{(*)}$, because one learns that anything in the middle of such a diagram is virtual/off-shell.\n",
    "\n",
    "<br/>\n",
    "<div>\n",
    "  <img src=\"https://web.archive.org/web/20230314233304/https://upload.wikimedia.org/wikipedia/commons/thumb/b/b2/4-lepton_Higgs_decay.svg/320px-4-lepton_Higgs_decay.svg.png\"\n",
    "       alt=\"Both sides of the diagram for Higgs to four leptons\"\n",
    "       width=\"480px\">\n",
    "</div>\n",
    "<br/>\n",
    "\n",
    "That represents to protons coming in and four leptons coming out.\n",
    "\n",
    "### Three decay possibilites\n",
    "\n",
    "In the first image, I said that we could simplify things while including more leptons than the electron. Let's use these symbols,\n",
    "\n",
    "<br/>\n",
    "<div>\n",
    "  <img src=\"./four_leptons_description_02.png\"\n",
    "       alt=\"Symbols for electron, positron (positive version of the electron), muon, and antimuon (positive version of the muon)\"\n",
    "       width=300px>\n",
    "</div>\n",
    "<br/>\n",
    "\n",
    "and give the three possibilites. We'll see these possibilities in the names of the `CSV` files.\n",
    "\n",
    "2023-03-15\n",
    "\n",
    "**Possibility 1: ... $H^{(*)} \\rightarrow \\{ 2 Z^{(*)} \\} \\rightarrow \\{ 4e \\}$**<br/>\n",
    "**Higgs to 4 electrons (via two Z bosons and after previous interactions)**\n",
    "\n",
    "<br/>\n",
    "<div>\n",
    "  <img src=\"./decay_four_leptons_four_electrons.png\"\n",
    "       alt=\"Off-mass-shell (virtual) Higgs to two off-mass-shell (virtual) Z bosons to four electrons\"\n",
    "       width=450px>\n",
    "</div>\n",
    "<br/>\n",
    "\n",
    "**Possibility 2: ... $H^{(*)} \\rightarrow \\{ 2 Z^{(*)} \\} \\rightarrow \\{ 4\\mu$ \\}**<br/>\n",
    "**Higgs to four muons (via two Z bosons and after previous interactions)**\n",
    "\n",
    "<br/>\n",
    "<div>\n",
    "  <img src=\"./decay_four_leptons_four_muons.png\"\n",
    "       alt=\"Off-mass-shell (virtual) Higgs to two off-mass-shell (virtual) Z bosons to four muons\"\n",
    "       width=450px>\n",
    "</div>\n",
    "<br/>\n",
    "\n",
    "**Possibility 3: ... $H^{(*)} \\rightarrow \\{ 2 Z^{(*)} \\} \\rightarrow \\{ 2e, 2\\mu$ \\}**<br/>\n",
    "**Higgs to 2 electrons and 2 muons (via two Z bosons and after previous interactions)**\n",
    "\n",
    "<br/>\n",
    "<div>\n",
    "  <img src=\"./decay_four_leptons_two_electrons_two_muons.png\"\n",
    "       alt=\"Off-mass-shell (virtual) Higgs to two off-mass-shell (virtual) Z bosons to two electrons and two muons\"\n",
    "       width=450px>\n",
    "</div>\n",
    "<br/>\n",
    "\n",
    "<hr/>"
   ]
  },
  {
   "cell_type": "markdown",
   "id": "70e4ea96",
   "metadata": {},
   "source": [
    "### Some code that didn't work ...\n",
    "\n",
    "... is now in a [note near the end](#Pandas-File-Loading-Problems).\n",
    "\n",
    "2023-03-16\n",
    "\n",
    "Basically, using `pandas.load(<internet-url>)` kept giving me a `HTTPError: HTTP Error 504: Gateway Time-out` error. I figured it will be better to use `requests` and then `pandas`.\n",
    "\n",
    "A quick note, I added a `pip` install of requests to the stuff at the beginnnings. I don't need to do the same for `shutil`, nor `pathlib`, nor `re`, nor `pprint`, because each of those are part of the standard."
   ]
  },
  {
   "cell_type": "markdown",
   "id": "4c295ba3",
   "metadata": {},
   "source": [
    "<hr/>"
   ]
  },
  {
   "cell_type": "markdown",
   "id": "a6191c7e",
   "metadata": {},
   "source": [
    "## Starting The Analysis\n",
    "\n",
    "### URLs"
   ]
  },
  {
   "cell_type": "code",
   "execution_count": null,
   "id": "1542ab15",
   "metadata": {},
   "outputs": [],
   "source": [
    "data_csv_urls = []\n",
    "\n",
    "# 4 electrons as daughter particles (two years' data)\n",
    "url_4e_2011 = 'http://opendata.cern.ch/record/5200/files/4e_2011.csv'\n",
    "data_csv_urls.append(url_4e_2011)\n",
    "url_4e_2012 = 'http://opendata.cern.ch/record/5200/files/4e_2012.csv'\n",
    "data_csv_urls.append(url_4e_2012)\n",
    "\n",
    "# 4 muons as daughter particles (two years' data)\n",
    "url_4mu_2011 = 'http://opendata.cern.ch/record/5200/files/4mu_2011.csv'\n",
    "data_csv_urls.append(url_4mu_2011)\n",
    "url_4mu_2012 = 'http://opendata.cern.ch/record/5200/files/4mu_2012.csv'\n",
    "data_csv_urls.append(url_4mu_2012)\n",
    "\n",
    "# 2 electrons and 2 muons as daughter particles (two years' data)\n",
    "url_2e2mu_2011 = 'http://opendata.cern.ch/record/5200/files/2e2mu_2011.csv'\n",
    "data_csv_urls.append(url_2e2mu_2011)\n",
    "url_2e2mu_2012 = 'http://opendata.cern.ch/record/5200/files/2e2mu_2012.csv'\n",
    "data_csv_urls.append(url_2e2mu_2012)"
   ]
  },
  {
   "cell_type": "markdown",
   "id": "36fb3bdc",
   "metadata": {},
   "source": [
    "### Download using requests and shutil then reading in with pandas\n",
    "\n",
    "Running the next cell makes some of the next cells look better."
   ]
  },
  {
   "cell_type": "code",
   "execution_count": null,
   "id": "29c1dbf0",
   "metadata": {},
   "outputs": [],
   "source": [
    "%%HTML\n",
    "<style>\n",
    "table {\n",
    "    margin-right:auto; \n",
    "    margin-left: 0px !important;\n",
    "    display: block;\n",
    "}\n",
    "th,tr,td {\n",
    "    font-size: 150%;\n",
    "}\n",
    "</style>"
   ]
  },
  {
   "cell_type": "markdown",
   "id": "b77fa59f",
   "metadata": {},
   "source": [
    "<br/>\n",
    "\n",
    "|Wanna|Skip|Physics?|\n",
    "|-|-|-|\n",
    "|Mash|`->`|<span style=\"color: red; background-color: #00ee00;\"><a href=\"#Putting-All-Data-In\">HERE</a></span>|\n",
    "\n",
    "<br/>"
   ]
  },
  {
   "cell_type": "markdown",
   "id": "f4cab7f9",
   "metadata": {},
   "source": [
    "#### Looking at one file"
   ]
  },
  {
   "cell_type": "code",
   "execution_count": null,
   "id": "8f00f547",
   "metadata": {},
   "outputs": [],
   "source": [
    "#wait# for this_url in data_csv_urls:\n",
    "#wait#  local_filename = this_url.split('/')[-1] #  not general solution \n",
    "#wait#                                           #+ (that would require HTML\n",
    "#wait#                                           #+ headers), but okay for\n",
    "#wait#                                           #+ our known urls.\n",
    "\n",
    "##  Wait, before I loop through all of them,I'll just \n",
    "##+ load in the first one, then we can look at the physics\n",
    "\n",
    "##########################################\n",
    "##  A peek at the data for 4e from 2011 ##\n",
    "##+ Side scrolling will be necessary    ##\n",
    "##########################################\n",
    "\n",
    "## Adding these 2023-03-16\n",
    "import requests\n",
    "import shutil\n",
    "from pathlib import Path\n",
    "\n",
    "my_url = 'http://opendata.cern.ch/record/5200/files/4e_2011.csv'\n",
    "local_filename = my_url.split('/')[-1]\n",
    "\n",
    "with requests.get(my_url, stream=True) as r:\n",
    "    r.raise_for_status()\n",
    "    with open(local_filename, 'wb') as f:\n",
    "        shutil.copyfileobj(r.raw, f)\n",
    "    ##endof:  with open ... as f\n",
    "##endof:  with requests ... as r\n",
    "\n",
    "our_file = Path(local_filename)\n",
    "we_have_our_file = ( our_file.is_file() )\n",
    "\n",
    "assert(we_have_our_file)"
   ]
  },
  {
   "cell_type": "markdown",
   "id": "ff4b0174",
   "metadata": {},
   "source": [
    "No AssertionError! We have our file!\n",
    "\n",
    "I want to see if the file size was causing the timeout, or if it was (the most likely explanation) something with my local gateway.\n",
    "\n",
    "For a discussion of the fastest and most-memory-friendly way to count lines in a file (especially big files), see [this note](#Line-Count-Discussion) near the end of the notebook.\n",
    "\n",
    "##### Line-count functions"
   ]
  },
  {
   "cell_type": "code",
   "execution_count": null,
   "id": "a62a5bb5",
   "metadata": {},
   "outputs": [],
   "source": [
    "def _make_count_generator(reader):\n",
    "    b = reader(1024 * 1024)\n",
    "    while b:\n",
    "        yield b\n",
    "        b = reader(1024*1024)\n",
    "    ##endof:  while b\n",
    "##endof:  def _make_count_generator(reader)\n",
    "\n",
    "\n",
    "#  DWB note: 20230316T164800-0600\n",
    "#+ I don't know what will happen with an empty file\n",
    "def raw_generator_line_count(filename):\n",
    "    with open(filename, 'rb') as fp:\n",
    "        my_generator = _make_count_generator(fp.raw.read)\n",
    "        count = sum(buffer.count(b'\\n') for buffer in my_generator)\n",
    "    ##endof:  with open ... fp\n",
    "    \n",
    "    return count + 1\n",
    "##endof:  def raw_generator_line_count(filename)"
   ]
  },
  {
   "cell_type": "markdown",
   "id": "0126f26f",
   "metadata": {},
   "source": [
    "##### Line count for file"
   ]
  },
  {
   "cell_type": "code",
   "execution_count": null,
   "id": "06d05ece",
   "metadata": {},
   "outputs": [],
   "source": [
    "n_lines = raw_generator_line_count(local_filename)\n",
    "print(\"\\nFile: \" + str(local_filename) + \"\\nhas \" + str(n_lines) + \" lines.\")"
   ]
  },
  {
   "cell_type": "markdown",
   "id": "b6562df9",
   "metadata": {},
   "source": [
    "Well, that was anticlimactic. The output was\n",
    "\n",
    "```\n",
    "File: 4e_2011.csv\n",
    "has 9 lines.\n",
    "```"
   ]
  },
  {
   "cell_type": "markdown",
   "id": "28154973",
   "metadata": {},
   "source": [
    "#### Let's have some physics fun with the first batch of data\n",
    "\n",
    "After all, we can visualize it all. As I was saying, some side scrolling will be needed, so we need to change some `pandas` stuff. It doesn't hurt to reset the HTML styles, either."
   ]
  },
  {
   "cell_type": "code",
   "execution_count": null,
   "id": "f3de3e2a",
   "metadata": {},
   "outputs": [],
   "source": [
    "%%HTML\n",
    "<style>\n",
    "table {\n",
    "    margin-right:auto; \n",
    "    margin-left: auto;\n",
    "    display: auto;\n",
    "}\n",
    "th,tr,td {\n",
    "    font-size: 100%;\n",
    "}\n",
    "</style>"
   ]
  },
  {
   "cell_type": "code",
   "execution_count": null,
   "id": "e246fb5c",
   "metadata": {},
   "outputs": [],
   "source": [
    "pd.options.display.max_columns = 50\n",
    "\n",
    "# Get our dataframe\n",
    "my_4e2011_df = pd.read_csv(local_filename)\n",
    "\n",
    "my_4e2011_df.describe(include=\"all\")"
   ]
  },
  {
   "cell_type": "markdown",
   "id": "27686412",
   "metadata": {},
   "source": [
    "That might be more than the head."
   ]
  },
  {
   "cell_type": "code",
   "execution_count": null,
   "id": "8ba0a031",
   "metadata": {},
   "outputs": [],
   "source": [
    "my_4e2011_df.head(10)"
   ]
  },
  {
   "cell_type": "markdown",
   "id": "3b26c632",
   "metadata": {},
   "source": [
    "In particle physics, we have something called the [invariant mass](https://en.wikipedia.org/wiki/Invariant_mass) ([archived](https://web.archive.org/web/20230313220738/https://en.wikipedia.org/wiki/Invariant_mass)). The invariant mass in such a collision - when talking about daughter particles - is the mass of the particle that decayed. It's the big 'M' in the last column. (If you don't understand that, don't worry - just forget I said anything.)\n",
    "\n",
    "There are a lot of different masses in that last column. Considering that an electron has a mass of about $0.5 MeV/c^2$, which is the same as $0.0005 GeV/c^2$. \n",
    "\n",
    "***&lt;part-you-can-skip&gt;***<br/>\n",
    "Particle physicists, again with our own quirky little ways, use a system called [natural units](https://en.wikipedia.org/wiki/Natural_units#Natural_units_(particle_and_atomic_physics)) ([archived](https://web.archive.org/web/20230316232513/https://en.wikipedia.org/wiki/Natural_units)). Some will say that this allows us to write $c$ (the speed of light) as $1$. That's oversimplifying it (it's more like making the physical-constant coefficients equal to $1$, in this case by making the length unit the same as the time unit ... -ish). Let's just say it lets us get away with writing equations and measurements without including the defining constants, which include $c$. If you want to know more, you can also look up [nondimensionalization](https://en.wikipedia.org/wiki/Nondimensionalization) ([archived](https://web.archive.org/web/20230316040337/https://en.wikipedia.org/wiki/Nondimensionalization))); I'm guessing you probably _don't_ want to know more, or even as much as I've said.<br/>\n",
    "***&lt;/part-you-can-skip&gt;***\n",
    "\n",
    "All of that to say that we can approximate the masses of the electron and the Higgs as \n",
    "\n",
    "`{mass_electron, mass_higgs} = {0.5 MeV, 126000 MeV} = {0.0005 GeV, 126 GeV}`\n",
    "\n",
    "Any way you look at it, that Higgs is a _lot_ more massive than four electrons. Where does the extra mass go? Well, some of the mass gets converted into energy (remember $E = m c^2$), a lot of it being energy of motion. "
   ]
  },
  {
   "cell_type": "markdown",
   "id": "e54520b2",
   "metadata": {},
   "source": [
    "Let's look at this two ways, both using the invariant mass. First, we'll find the invariant mass of the particle that decayed into four leptons (four electrons in the case we're doing). We'll take a look at one event to check things out. (I've always called it a sanity check.) Then, we can look at each electron's invariant mass.\n",
    "\n",
    "Here's some code to let you see the info we get from one event - basically the headers and the values for the first event."
   ]
  },
  {
   "cell_type": "code",
   "execution_count": null,
   "id": "343cac50",
   "metadata": {},
   "outputs": [],
   "source": [
    "## Adding 2023-03-16\n",
    "import re"
   ]
  },
  {
   "cell_type": "code",
   "execution_count": null,
   "id": "afa1da59",
   "metadata": {},
   "outputs": [],
   "source": [
    "table_of_tables = []\n",
    "current_table = []\n",
    "is_a_new_table = True\n",
    "is_the_first_element = True\n",
    "\n",
    "for my_header in my_4e2011_df.columns.values.tolist():\n",
    "    if ( re.match(r\"PID\\d+\", my_header) or\n",
    "         re.match(r\"mZ1\", my_header) or\n",
    "         re.match(r\"M\", my_header)):\n",
    "        is_a_new_table = True\n",
    "    ##endof:  if <and all the re.match>\n",
    "    \n",
    "    if is_a_new_table:\n",
    "        if not is_the_first_element:\n",
    "            table_of_tables.append(current_table)\n",
    "        else:\n",
    "            is_the_first_element = False\n",
    "        ##endof:  if/else is_not_the_first_element\n",
    "        \n",
    "        current_table = [my_header]\n",
    "        is_a_new_table = False\n",
    "        \n",
    "    else:\n",
    "        current_table.append(my_header)\n",
    "    ##endof:  if/else is_a_new_table\n",
    "    \n",
    "##endof:  for my_header in my_4e2011_df.columns.values.tolist()\n",
    "\n",
    "table_of_tables.append(current_table)"
   ]
  },
  {
   "cell_type": "code",
   "execution_count": null,
   "id": "9dd4beb7",
   "metadata": {},
   "outputs": [],
   "source": [
    "import pprint\n",
    "\n",
    "pprint.pprint(table_of_tables)"
   ]
  },
  {
   "cell_type": "markdown",
   "id": "96eb1b9e",
   "metadata": {},
   "source": [
    "The output was\n",
    "\n",
    "```\n",
    "[['Run', 'Event'],\n",
    " ['PID1', 'E1', 'px1', 'py1', 'pz1', 'pt1', 'eta1', 'phi1', 'Q1'],\n",
    " ['PID2', 'E2', 'px2', 'py2', 'pz2', 'pt2', 'eta2', 'phi2', 'Q2'],\n",
    " ['PID3', 'E3', 'px3', 'py3', 'pz3', 'pt3', 'eta3', 'phi3', 'Q3'],\n",
    " ['PID4', 'E4', 'px4', 'py4', 'pz4', 'pt4', 'eta4', 'phi4', 'Q4'],\n",
    " ['mZ1', 'mZ2'],\n",
    " ['M']]\n",
    "```\n",
    "\n",
    "Note that we can use `my_4e2011_df.info()` to get even more info about these (not about their physics, but about the data types, count, etc. I've done that in a [note near the end](#More-Dataframe-Info)."
   ]
  },
  {
   "cell_type": "markdown",
   "id": "25282a05",
   "metadata": {},
   "source": [
    "### The parent particle"
   ]
  },
  {
   "cell_type": "markdown",
   "id": "8a028a1a",
   "metadata": {},
   "source": [
    "The general formula for invariant mass, $m_0$, for one particle in this case, is\n",
    "\n",
    "$m_0 = \\sqrt{E^2 - \\lvert \\textbf{p} \\rvert^2}$\n",
    "\n",
    "In a particle decay, the invariant mass of the the system of particle(s) stays the same - the invariant mass calculated using the energy and momentum of the daughter particles is equal to the invariant mass of the parent particle. However, we can't just find the equivalent mass for the first daughter particle, then the second daughter particle, etc. We need to look at them all together. This is shown in the general formula for the invariant mass of the system of daughter particles, usually notated as $W$, and which is equal to the invariant mass of the parent particle,\n",
    "\n",
    "$W = \\sqrt{ \\left( \\sum{E} \\right)^2 - \\left( \\lvert \\sum{\\textbf{p}} \\rvert \\right)^2}$\n",
    "\n",
    "Note that this, just like the general formula for invariant mass, is in natural units.\n",
    "\n",
    "The way vectors work makes this nice for us. We can write the equation using only the values in our list.\n",
    "\n",
    "$W = \\sqrt{\\left( \\sum_N{E} \\right)^2 - \\sum_N{ \\left[ (pxN)^2 + (pyN)^2 + (pzN)^2 \\right]}}$ with $N \\in \\{1, 2, 3, 4\\}$\n",
    "\n",
    "or, even more exhaustively,\n",
    "\n",
    "$W = \\sqrt{(} \\overline{ E1 + E2 + E3 + E4 )^2 - ... }$\n",
    "\n",
    "&nbsp;&nbsp;&nbsp;&nbsp;&nbsp;&nbsp;&nbsp;&nbsp;&nbsp;&nbsp;&nbsp;&nbsp;&nbsp;&nbsp;&nbsp;&nbsp;&nbsp; $\\overline{ ... {[} (px1)^2 + (px2)^2 + (px3)^2 + (px4)^2 + ... }$\n",
    "\n",
    "&nbsp;&nbsp;&nbsp;&nbsp;&nbsp;&nbsp;&nbsp;&nbsp;&nbsp;&nbsp;&nbsp;&nbsp;&nbsp;&nbsp;&nbsp;&nbsp;&nbsp;&nbsp;&nbsp;&nbsp;&nbsp;&nbsp;&nbsp;&nbsp;&nbsp; $\\overline{ ... (py1)^2 + (py2)^2 + (py3)^2 + (py4)^2 + ... }$\n",
    "\n",
    "&nbsp;&nbsp;&nbsp;&nbsp;&nbsp;&nbsp;&nbsp;&nbsp;&nbsp;&nbsp;&nbsp;&nbsp;&nbsp;&nbsp;&nbsp;&nbsp;&nbsp;&nbsp;&nbsp;&nbsp;&nbsp;&nbsp;&nbsp;&nbsp;&nbsp;&nbsp;&nbsp;&nbsp;&nbsp;&nbsp;&nbsp;&nbsp;&nbsp; $\\overline{ ... (pz1)^2 + (pz2)^2 + (pz3)^2 + (pz4)^2 ] } $\n"
   ]
  },
  {
   "cell_type": "code",
   "execution_count": null,
   "id": "012339f4",
   "metadata": {},
   "outputs": [],
   "source": []
  },
  {
   "cell_type": "code",
   "execution_count": null,
   "id": "9223e2ba",
   "metadata": {},
   "outputs": [],
   "source": []
  },
  {
   "cell_type": "code",
   "execution_count": null,
   "id": "5ce87ecf",
   "metadata": {},
   "outputs": [],
   "source": []
  },
  {
   "cell_type": "code",
   "execution_count": null,
   "id": "c8f01778",
   "metadata": {},
   "outputs": [],
   "source": []
  },
  {
   "cell_type": "code",
   "execution_count": null,
   "id": "ba761f27",
   "metadata": {},
   "outputs": [],
   "source": []
  },
  {
   "cell_type": "code",
   "execution_count": null,
   "id": "4ab3a002",
   "metadata": {},
   "outputs": [],
   "source": []
  },
  {
   "cell_type": "code",
   "execution_count": null,
   "id": "d38debc0",
   "metadata": {},
   "outputs": [],
   "source": []
  },
  {
   "cell_type": "code",
   "execution_count": null,
   "id": "308dedd2",
   "metadata": {},
   "outputs": [],
   "source": []
  },
  {
   "cell_type": "code",
   "execution_count": null,
   "id": "3a53bc48",
   "metadata": {},
   "outputs": [],
   "source": []
  },
  {
   "cell_type": "markdown",
   "id": "d9150e85",
   "metadata": {},
   "source": [
    "### One daughter particle"
   ]
  },
  {
   "cell_type": "markdown",
   "id": "b0e4e74f",
   "metadata": {},
   "source": [
    "For our one-particle invariant mass, let's look back to the structure of the data we're inspecting.\n",
    "\n",
    "```\n",
    "[['Run', 'Event'],\n",
    " ['PID1', 'E1', 'px1', 'py1', 'pz1', 'pt1', 'eta1', 'phi1', 'Q1'],\n",
    " ['PID2', 'E2', 'px2', 'py2', 'pz2', 'pt2', 'eta2', 'phi2', 'Q2'],\n",
    " ['PID3', 'E3', 'px3', 'py3', 'pz3', 'pt3', 'eta3', 'phi3', 'Q3'],\n",
    " ['PID4', 'E4', 'px4', 'py4', 'pz4', 'pt4', 'eta4', 'phi4', 'Q4'],\n",
    " ['mZ1', 'mZ2'],\n",
    " ['M']]\n",
    "```\n",
    "\n",
    "It it is now pretty easy to see how we can do $E^2$. For the $\\lvert \\textbf{p} \\rvert^2$, we use a standard vector length formula (Pythagorean theorem). I'm not sure what to do with `ptN`, which I'm pretty sure is transverse momentum. That's basically the same as the momentum in $x$ and $y$. We can use our Pythagorean Theorem for the norm of the momentum vector using $x,y,z$. So, for each particle, (1,2,3,4), for which we have the components of momentum (we'll designate each particle with $N \\in \\{1, 2, 3, 4\\}$\n",
    "\n",
    "$\\lvert \\textbf{p} \\rvert = \\sqrt{(pxN)^2 + (pyN)^2 + (pzN)^2 - (ptN)^2}$\n",
    "\n",
    "We'll do this with our dataframe, and to be a bit simpler (not as busy on the page), we'll do it one particle at a time. For the first try, we'll do it one event at a time as well."
   ]
  },
  {
   "cell_type": "markdown",
   "id": "891d7d89",
   "metadata": {},
   "source": [
    "For one particle, in any frame of reference (ignore that last part if it confuses you), the invariant mass is given by\n",
    "\n",
    "$m_0 = \\sqrt{E^2 - \\lvert \\textbf{p} \\rvert^2}$\n",
    "\n",
    "We'll check that each of the electrons has the correct (invariant) mass."
   ]
  },
  {
   "cell_type": "markdown",
   "id": "0a736206",
   "metadata": {},
   "source": [
    "#### Invariant mass for each particle\n",
    "\n",
    "We'll use our equation, rewritten as\n",
    "\n",
    "$m_0 = \\sqrt{E^2 - [(pxN)^2 + (pyN)^2 + (pzN)^2 - (ptN)^2]}$"
   ]
  },
  {
   "cell_type": "code",
   "execution_count": null,
   "id": "dd629e3e",
   "metadata": {},
   "outputs": [],
   "source": [
    "## added 2023-03-17\n",
    "from math import sqrt"
   ]
  },
  {
   "cell_type": "code",
   "execution_count": null,
   "id": "798c5e6a",
   "metadata": {},
   "outputs": [],
   "source": [
    "def invariant_mass_from_values(energy, px, py, pz, do_avoid_imaginary = True):\n",
    "    '''\n",
    "    :brief: Calculates the invariant mass of a particle\n",
    "    \n",
    "    :param energy:  The energy of the particle\n",
    "    :param px:      The x-component of the particle's velocity\n",
    "    :param py:      The y-component of the particle's velocity\n",
    "    :param pz:      The z-component of the particle's velocity\n",
    "    \n",
    "    :returns invariant_mass: The invariant mass (rest mass)\n",
    "    '''\n",
    "    \n",
    "    e_squared_part = (energy ** 2)\n",
    "    norm_p_squared_part = (px ** 2) + (py ** 2) + (pz ** 2)\n",
    "    \n",
    "    #  remember that the time-component of the vector-length\n",
    "    #+ formula has a different sign\n",
    "    e2_minus_p2 = e_squared_part - norm_p_squared_part\n",
    "    \n",
    "    invariant_mass = sqrt(  )\n",
    ")\n",
    "    invariant_mass = float(invariant_mass)\n",
    "    \n",
    "    return invariant_mass\n",
    "##endof:  def invariant_mass_from_values(<params>)\n",
    "\n",
    "#############################################################\n",
    "#### SAVE THIS FOR LATER. LET'S GET THE MAIN STUFF DONE! ####\n",
    "##\n",
    "##def invariant_mass_from_dataframe(dataframe, \n",
    "##                                  event=Null, \n",
    "##                                  particle_number=Null):\n",
    "##    '''\n",
    "##    :brief: Get invariant mass of all or certain paricles from CMS data\n",
    "##    \n",
    "##    Note that we must get the information in the form it is found at\n",
    "##    guide=\"https://opendata-education.github.io/en_Workshops/exercises/\" + \\\n",
    "##          \"Hunting-the-Higgs-4leptons.html\"\n",
    "##    archived_guide=\"https://web.archive.org/web/20230305034951/\" + \\\n",
    "##    \"https://opendata-education.github.io/en_Workshops/exercises/discussion.html\"\n",
    "##    i.e. the headers of the data must look like the headers in the CSVs\n",
    "##    downloaded there. The CSVs come from\n",
    "##    '''\n",
    "##    #blah\n",
    "####endof:  de invariant_mass_from_dataframe"
   ]
  },
  {
   "cell_type": "markdown",
   "id": "e807cd5e",
   "metadata": {},
   "source": [
    " Let's set the HTML stuff correct for displaying `pandas` stuff."
   ]
  },
  {
   "cell_type": "code",
   "execution_count": null,
   "id": "c55c9a98",
   "metadata": {},
   "outputs": [],
   "source": [
    "%%HTML\n",
    "<style>\n",
    "table {\n",
    "    margin-right:auto; \n",
    "    margin-left: auto;\n",
    "    display: auto;\n",
    "}\n",
    "th,tr,td {\n",
    "    font-size: 100%;\n",
    "}\n",
    "</style"
   ]
  },
  {
   "cell_type": "code",
   "execution_count": null,
   "id": "99b7d6c1",
   "metadata": {},
   "outputs": [],
   "source": [
    "do_display_first = True # You can change this to True, if you want\n",
    "\n",
    "if do_display_first:\n",
    "    print(my_4e2011_df.iloc[1])\n",
    "##endof:  if do_display_first\n",
    "\n",
    "#  archived_ref=\"https://web.archive.org/web/\" + \\\n",
    "#+ \"20230318225210/https://stackoverflow.com/questions/\" + \\\n",
    "#+ \"12021754/how-to-slice-a-pandas-dataframe-by-position\"\n",
    "first_event_df = my_4e2011_df[:1]\n",
    "\n",
    "event_1_particle_1_df = \\\n",
    "  first_event_df.assign(\n",
    "            Invariant_Mass_1 = lambda x: \\\n",
    "               invariant_mass_from_values(x.E1,\n",
    "                                          x.px1,\n",
    "                                          x.py1,\n",
    "                                          x.pz1)) \n",
    "\n",
    "event_1_particle_1_df.head()"
   ]
  },
  {
   "cell_type": "markdown",
   "id": "b8fe789a",
   "metadata": {},
   "source": [
    "<hr/>"
   ]
  },
  {
   "cell_type": "markdown",
   "id": "258bf015",
   "metadata": {},
   "source": [
    "## Putting All Data In"
   ]
  },
  {
   "cell_type": "markdown",
   "id": "1c687f4c",
   "metadata": {},
   "source": []
  },
  {
   "cell_type": "code",
   "execution_count": null,
   "id": "7972d3b2",
   "metadata": {},
   "outputs": [],
   "source": []
  },
  {
   "cell_type": "markdown",
   "id": "8e7f2208",
   "metadata": {},
   "source": [
    "<br/><br/>\n",
    "<hr/><hr/>\n",
    "\n",
    "## Notes/Appendixes\n",
    "\n",
    "<hr/><hr/>"
   ]
  },
  {
   "cell_type": "markdown",
   "id": "0a935ce5",
   "metadata": {},
   "source": [
    "## HTML Jupyter Refs\n",
    "\n",
    "### We could call it Appendix A-1\n",
    "\n",
    "```\n",
    "html_jupyter_ref=\"https://stackoverflow.com/a/39551936/6505499\"\n",
    "archived_html_jupyter_ref_earlier=\"https://web.archive.org/web/\" + \\\n",
    "\"20220525114434/\" + \\\n",
    "\"http://stackoverflow.com:80/questions/21892570/\" + \\\n",
    "\"ipython-notebook-align-table-to-the-left-of-cell\"\n",
    "archived_html_jupyter_ref_now=\"https://web.archive.org/web/\" + \\\n",
    "\"20230317043442/\" + \\\n",
    "\"https://stackoverflow.com/questions/21892570/\" + \\\n",
    "\"ipython-notebook-align-table-to-the-left-of-cell/\"\n",
    "```\n",
    "\n",
    "That one is the best for what I needed. Here are others.\n",
    "\n",
    "```\n",
    "other_ref_1=\"https://stackoverflow.com/questions/36319252/\" + \\\n",
    "\"how-to-revert-to-normal-style-no-style-in-ipython-notebook-\" + \\\n",
    "\"after-calling-html/36336153#36336153\"\n",
    "archived_other_ref_1=\"https://web.archive.org/web/20230317044154/\" + \\\n",
    "\"https://stackoverflow.com/questions/18024769/\" + \\\n",
    "\"adding-custom-styled-paragraphs-in-markdown-cells\"\n",
    "\n",
    "\n",
    "other_ref_2=\"https://stackoverflow.com/questions/18024769/\" + \\\n",
    "\"adding-custom-styled-paragraphs-in-markdown-cells\"\n",
    "archived_other_ref_2=\"https://web.archive.org/web/20230317161215/\" + \\\n",
    "\"https://stackoverflow.com/questions/18024769/\" + \\\n",
    "\"adding-custom-styled-paragraphs-in-markdown-cells\"\n",
    "\n",
    "other_ref_3=\"https://stackoverflow.com/questions/52290219/\" + \\\n",
    "\"how-to-increase-the-font-size-of-the-markdown-\" + \\\n",
    "\"table-in-jupyter-notebook\"\n",
    "archived_other_ref_3=\"https://web.archive.org/web/20230317161621/\" + \\\n",
    "\"https://stackoverflow.com/questions/52290219/\" + \\\n",
    "\"how-to-increase-the-font-size-of-the-markdown-\" + \\\n",
    "\"table-in-jupyter-notebook\"\n",
    "```\n",
    "\n",
    "#### Other info about magic functions. Just archived links for now.\n",
    "\n",
    "(I can get the original link from them, anyway, as long as I'm not linking to a specific answer/anchor.)\n",
    "\n",
    "```\n",
    "archived_magic_ref_1=\"https://web.archive.org/web/20230316174653/\" + \\\n",
    "\"https://stackoverflow.com/questions/32565829/\" + \\\n",
    "\"simple-way-to-measure-cell-execution-time-in-ipython-notebook\"\n",
    "\n",
    "archived_magic_ref_2=\"https://web.archive.org/web/20230314233246/\" + \\\n",
    "\"https://ipython.org/ipython-doc/dev/\" + \\\n",
    "\"interactive/tutorial.html#magic-functions\"\n",
    "\n",
    "archived_magic_ref_3=\"https://web.archive.org/web/20221128083253/\" + \\\n",
    "\"https://nbviewer.org/github/ipython/ipython/\" + \\\n",
    "\"blob/1.x/examples/notebooks/Cell%20Magics.ipynb\"\n",
    "```"
   ]
  },
  {
   "cell_type": "markdown",
   "id": "1fae2f93",
   "metadata": {},
   "source": [
    "\n",
    "## Pandas File-Loading Problems\n",
    "\n",
    "### We could call it Appendix A\n",
    "\n",
    "```\n",
    "anchor_ref=\"https://stackoverflow.com/questions/16630969/\" + \\\n",
    "\"ipython-notebook-anchor-link-to-refer-a-cell-directly-from-outside\"\n",
    "archived_anchor_ref=\"https://web.archive.org/web/20230316174643/\" + \\\n",
    "\"https://stackoverflow.com/questions/16630969/\" + \\\n",
    "\"ipython-notebook-anchor-link-to-refer-a-cell-directly-from-outside\"\n",
    "```\n",
    "\n",
    "From here ... (The following link is broken - it was a noble attempt, though.)\n",
    "\n",
    "[This link/anchor is not used for the other, get-to-appendix task](#not-this-anchor), because the header name can be used, but showing a concept with &lt;a&gt;. The concept with &lt;a&gt; doesn't seem to work.\n",
    "\n",
    "### Start of important stuff in Appendix A - an attempt to read in the files\n",
    "\n",
    "Now, let's read in the CSV files for each of those three possibilities. We'll take a quick peek at the data, but not too much (there's a bunch). We'll look more carefully at a few of the columns and figure out the physics.\n",
    "\n",
    "( _DWB note_, 20230315T175999-0600 ) Using `pd.read_csv` continues to get me `HTTPError: HTTP Error 504: Gateway Time-out` errors. I'm going to switch to using the `requests` module. I will keep my reference on some options from [this SO reference](https://stackoverflow.com/questions/16694907/download-large-file-in-python-with-requests) ([archived](https://web.archive.org/web/20230316000241/https://stackoverflow.com/questions/16694907/download-large-file-in-python-with-requests)).\n",
    "\n",
    "_I'm also including a possibly-relevant-but-I'm-not-taking-the-time-to-learn-something-that-new source_\n",
    "\n",
    "_&lt;not-now-source&gt;_\n",
    "<br/>\n",
    "```\n",
    "ref=\"https://stackoverflow.com/questions/15786421/\" + \\\n",
    "\"http-error-504-gateway-time-out-when-trying-to-read-a-reddit-comments-post\"\n",
    "archived_ref=\"https://web.archive.org/web/20230316001420/\" + \\\n",
    "\"https://stackoverflow.com/questions/15786421/\" + \\\n",
    "\"http-error-504-gateway-time-out-when-trying-to-read-a-reddit-comments-post\"\n",
    "```\n",
    "\n",
    "_&lt;/not-now-source&gt;_\n",
    "\n",
    "<br/>\n",
    "\n",
    "After a git commit, I'm putting the non-working code in this markdown cell and trying to use the new code.\n",
    "\n",
    "<br/>\n",
    "\n",
    "_&lt;not-working-now-but-I-doubt-it's-broken-code&gt;_\n",
    "\n",
    "<br/>\n",
    "\n",
    "#### First attempt\n",
    "\n",
    "```\n",
    "#4 electrons as daughter particles (two years' data)\n",
    "the_4e_lepton_participants_2011 = \\\n",
    "  pd.read_csv(\n",
    "    'http://opendata.cern.ch/record/5200/files/4e_2011.csv')\n",
    "the_4e_lepton_participants_2012 = \\\n",
    "  pd.read_csv(\n",
    "    'http://opendata.cern.ch/record/5200/files/4e_2012.csv')\n",
    "\n",
    "# 4 muons as daughter particles (two years' data)\n",
    "the_4mu_lepton_participants_2011 = \\\n",
    "  pd.read_csv(\n",
    "    'http://opendata.cern.ch/record/5200/files/4mu_2011.csv')\n",
    "the_4mu_lepton_participants_2012 = \\\n",
    "  pd.read_csv(\n",
    "    'http://opendata.cern.ch/record/5200/files/4mu_2012.csv')\n",
    "\n",
    "# 2 electrons and 2 muons as daughter particles (two years' data)\n",
    "the_2e2mu_lepton_participants_2011 = \\\n",
    "  pd.read_csv(\n",
    "    'http://opendata.cern.ch/record/5200/files/2e2mu_2011.csv')\n",
    "the_2e2mu_lepton_participants_2012 = \\\n",
    "  pd.read_csv(\n",
    "    'http://opendata.cern.ch/record/5200/files/2e2mu_2012.csv')\n",
    "\n",
    "\n",
    "##########################################\n",
    "##  A peek at the data for 4e from 2011 ##\n",
    "##+ Side scrolling will be necessary    ##\n",
    "##########################################\n",
    "the_4e_lepton_participants_2011.head()\n",
    "```\n",
    "\n",
    "##### Not getting anything usable due to the HTMLError\n",
    "\n",
    "<br/><br/>\n",
    "\n",
    "#### Trying the original reading-in from the guide\n",
    "\n",
    "```\n",
    "##  DWB, 20230315T180500-0600\n",
    "##+ Trying the strategy used in the original guide.\n",
    "##+ orig_ref=\"https://opendata-education.github.io/en_Workshops/\" + \\\n",
    "##+ \"exercises/Hunting-the-Higgs-4leptons.html\"\n",
    "##+ orig_ref_archived=\"https://web.archive.org/web/20230316000855/\" + \\\n",
    "##+ \"https://opendata-education.github.io/en_Workshops/\" + \\\n",
    "##+ \"exercises/Hunting-the-Higgs-4leptons.html\"\n",
    "##+\n",
    "##+ It didn't work, either (same `HTTPError: HTTP Error 504: Gateway Time-out`)\n",
    "\n",
    "# Data for later use. \n",
    "csvs = [pd.read_csv('http://opendata.cern.ch/record/5200/files/4mu_2011.csv'), pd.read_csv('http://opendata.cern.ch/record/5200/files/4e_2011.csv'), pd.read_csv('http://opendata.cern.ch/record/5200/files/2e2mu_2011.csv')]\n",
    "csvs += [pd.read_csv('http://opendata.cern.ch/record/5200/files/4mu_2012.csv'), pd.read_csv('http://opendata.cern.ch/record/5200/files/4e_2012.csv'), pd.read_csv('http://opendata.cern.ch/record/5200/files/2e2mu_2012.csv')]\n",
    "\n",
    "fourlep = pd.concat(csvs)\n",
    "```\n",
    "\n",
    "##### Not getting anything usable due to the HTMLError\n",
    "\n",
    "<br/>\n",
    "\n",
    "_&lt;not-working-now-but-I-doubt-it's-broken-code&gt;_\n",
    "\n",
    "Will try something else.\n",
    "\n",
    "<br/>\n",
    "<br/>\n",
    "\n",
    "<hr/>"
   ]
  },
  {
   "cell_type": "markdown",
   "id": "ba45488e",
   "metadata": {},
   "source": [
    "... to here.\n",
    "\n",
    "<a id=\"#not-this-anchor\"></a>\n",
    "The line above this only contains '`<a id=\"#not-this-anchor\"></a>`'\n",
    "\n",
    "And we should be looking at what is beneath that line.\n",
    "\n",
    "**But, apparently, it doesn't work. I'll need to use the names of the headers.**"
   ]
  },
  {
   "cell_type": "markdown",
   "id": "ee29a954",
   "metadata": {},
   "source": [
    "<hr/>"
   ]
  },
  {
   "cell_type": "markdown",
   "id": "059a03a8",
   "metadata": {},
   "source": [
    "\n",
    "## Line Counting Discussion\n",
    "\n",
    "### We could call it Appendix B\n",
    "\n",
    "I think the best discussion of the most optimized line-counting algorithm is at\n",
    "\n",
    "```\n",
    "lc_ref_1=\"https://stackoverflow.com/questions/845058/\" + \\\n",
    "\"how-to-get-line-count-of-a-large-file-cheaply-in-python/27518377#27518377\"\n",
    "archived_lc_ref_1=\"https://web.archive.org/web/20230316221423/\" + \\\n",
    "\"https://stackoverflow.com/questions/845058/\" + \\\n",
    "\"how-to-get-line-count-of-a-large-file-cheaply-in-python/27518377#27518377\"\n",
    "```\n",
    "\n",
    "Look for the answer from @Michael_Bacon, then you can read the answer by @Ryan_Ginstrom to give some background. I would go straight to the archived version if you're searching for those answers - that's why I archived it.\n",
    "\n",
    "The answer by adds generator/buffer solutions, not discussed by @Ryan_Ginstrom, but one of which is also discussed in another good source,\n",
    "\n",
    "```\n",
    "lc_ref_2=\"https://pynative.com/python-count-number-of-lines-in-file/\"\n",
    "archived_lc_ref_2=\"https://web.archive.org/web/20230316215432/\" + \\\n",
    "\"https://pynative.com/python-count-number-of-lines-in-file/\"\n",
    "```\n",
    "\n",
    "There's also a decent discussion from geeksforgeeks, which includes some Big Oh discussion, but it's not as comprehensive as the other two and doesn't discuss the generator stuff.\n",
    "\n",
    "```\n",
    "lc_ref_3=\"https://www.geeksforgeeks.org/count-number-of-lines-\" + \\\n",
    "\"in-a-text-file-in-python/\"\n",
    "archived_anchor_ref=\"https://web.archive.org/web/20230306171715/\" + \\\n",
    "\"https://www.geeksforgeeks.org/count-number-of-lines-\" + \\\n",
    "\"in-a-text-file-in-python/\"\n",
    "```"
   ]
  },
  {
   "cell_type": "markdown",
   "id": "d31c9b3a",
   "metadata": {},
   "source": [
    "<hr/>"
   ]
  },
  {
   "cell_type": "markdown",
   "id": "6790a27c",
   "metadata": {},
   "source": [
    "## More Dataframe Info\n",
    "\n",
    "### We could call it Appendix C"
   ]
  },
  {
   "cell_type": "code",
   "execution_count": null,
   "id": "a6580684",
   "metadata": {},
   "outputs": [],
   "source": [
    "my_4e2011_df.info()"
   ]
  },
  {
   "cell_type": "markdown",
   "id": "517a74d5",
   "metadata": {},
   "source": [
    "The output was\n",
    "\n",
    "```\n",
    "<class 'pandas.core.frame.DataFrame'>\n",
    "RangeIndex: 7 entries, 0 to 6\n",
    "Data columns (total 41 columns):\n",
    " #   Column  Non-Null Count  Dtype  \n",
    "---  ------  --------------  -----  \n",
    " 0   Run     7 non-null      int64  \n",
    " 1   Event   7 non-null      int64  \n",
    " 2   PID1    7 non-null      int64  \n",
    " 3   E1      7 non-null      float64\n",
    " 4   px1     7 non-null      float64\n",
    " 5   py1     7 non-null      float64\n",
    " 6   pz1     7 non-null      float64\n",
    " 7   pt1     7 non-null      float64\n",
    " 8   eta1    7 non-null      float64\n",
    " 9   phi1    7 non-null      float64\n",
    " 10  Q1      7 non-null      int64  \n",
    " 11  PID2    7 non-null      int64  \n",
    " 12  E2      7 non-null      float64\n",
    " 13  px2     7 non-null      float64\n",
    " 14  py2     7 non-null      float64\n",
    " 15  pz2     7 non-null      float64\n",
    " 16  pt2     7 non-null      float64\n",
    " 17  eta2    7 non-null      float64\n",
    " 18  phi2    7 non-null      float64\n",
    " 19  Q2      7 non-null      int64  \n",
    " 20  PID3    7 non-null      int64  \n",
    " 21  E3      7 non-null      float64\n",
    " 22  px3     7 non-null      float64\n",
    " 23  py3     7 non-null      float64\n",
    " 24  pz3     7 non-null      float64\n",
    " 25  pt3     7 non-null      float64\n",
    " 26  eta3    7 non-null      float64\n",
    " 27  phi3    7 non-null      float64\n",
    " 28  Q3      7 non-null      int64  \n",
    " 29  PID4    7 non-null      int64  \n",
    " 30  E4      7 non-null      float64\n",
    " 31  px4     7 non-null      float64\n",
    " 32  py4     7 non-null      float64\n",
    " 33  pz4     7 non-null      float64\n",
    " 34  pt4     7 non-null      float64\n",
    " 35  eta4    7 non-null      float64\n",
    " 36  phi4    7 non-null      float64\n",
    " 37  Q4      7 non-null      int64  \n",
    " 38  mZ1     7 non-null      float64\n",
    " 39  mZ2     7 non-null      float64\n",
    " 40  M       7 non-null      float64\n",
    "dtypes: float64(31), int64(10)\n",
    "memory usage: 2.4 KB\n",
    "```"
   ]
  },
  {
   "cell_type": "markdown",
   "id": "800bd64e",
   "metadata": {},
   "source": [
    "## Other Potentially-Useless Sources\n",
    "\n",
    "### We could call it Appendix Z - I don't know how far I'll get with other appendices\n",
    "\n",
    "```\n",
    "archived_opus_ref_01=\"https://web.archive.org/web/20230318231017/\" + \\\n",
    "\"https://pandas.pydata.org/docs/getting_started/\" + \\\n",
    "\"intro_tutorials/03_subset_data.html\"\n",
    "```"
   ]
  },
  {
   "cell_type": "code",
   "execution_count": null,
   "id": "96f5599d",
   "metadata": {},
   "outputs": [],
   "source": []
  }
 ],
 "metadata": {
  "kernelspec": {
   "display_name": "Python 3 (ipykernel)",
   "language": "python",
   "name": "python3"
  },
  "language_info": {
   "codemirror_mode": {
    "name": "ipython",
    "version": 3
   },
   "file_extension": ".py",
   "mimetype": "text/x-python",
   "name": "python",
   "nbconvert_exporter": "python",
   "pygments_lexer": "ipython3",
   "version": "3.10.9"
  }
 },
 "nbformat": 4,
 "nbformat_minor": 5
}
